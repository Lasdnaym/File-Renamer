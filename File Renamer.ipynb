{
 "cells": [
  {
   "cell_type": "code",
   "execution_count": 18,
   "id": "5a016a20",
   "metadata": {},
   "outputs": [],
   "source": [
    "# Import statements \n",
    "import os\n",
    "import string"
   ]
  },
  {
   "cell_type": "code",
   "execution_count": null,
   "id": "38f23ad5",
   "metadata": {},
   "outputs": [],
   "source": [
    "# C:\\\\Users\\\\dylan\\\\OneDrive\\\\Documents\\\\Files"
   ]
  },
  {
   "cell_type": "code",
   "execution_count": 34,
   "id": "7ae9fb1e",
   "metadata": {},
   "outputs": [
    {
     "name": "stdout",
     "output_type": "stream",
     "text": [
      "Specify path of directory: C:\\\\Users\\\\dylan\\\\OneDrive\\\\Documents\\\\Files\n",
      "Modes: consecutive, alternating, simple\n",
      "Select a mode: alternating\n",
      "Input the first label: Test\n",
      "Input the second label: Lmao\n"
     ]
    }
   ],
   "source": [
    "directory = input(\"Specify path of directory: \")\n",
    "print(\"Modes: consecutive, alternating, simple\")\n",
    "mode = input(\"Select a mode: \")\n",
    "# If label is Example then files will be named Example_1, Example_2, Example_3 etc.\n",
    "if mode == \"consecutive\":\n",
    "    labelOneC = input(\"Input first label: \")\n",
    "    modedC = input(\"letters or numbers: \")\n",
    "# If labels are Example and Title then files will be named Example_1, Title_1, Example_2, Title_2, etc.\n",
    "if mode == \"alternating\":\n",
    "    labelOneA = input(\"Input the first label: \")\n",
    "    labelTwoA = input(\"Input the second label: \")\n",
    "# Files named 1, 2, 3, etc. or A, B, C, etc.\n",
    "if mode == \"simple\":\n",
    "    modedS = input(\"letters or numbers: \")\n",
    "    "
   ]
  },
  {
   "cell_type": "code",
   "execution_count": 39,
   "id": "3af2f3a7",
   "metadata": {},
   "outputs": [],
   "source": [
    "os.chdir(directory)\n",
    "alphabetList = list(string.ascii_lowercase)\n",
    "\n",
    "if mode == \"simple\":\n",
    "    extraLabelS = 2;\n",
    "    extraCounter = 0;\n",
    "    for count, file in enumerate(os.listdir()):\n",
    "        fileName, fileExtension = os.path.splitext(file)\n",
    "        extraCounter = extraCounter + 1;\n",
    "        if modedS == \"letters\":\n",
    "            if extraCounter > len(alphabetList):\n",
    "                extraCounter = 0;\n",
    "                extraLabelS = extraLabelS + 1\n",
    "            if extraLabelS > 0:\n",
    "                fileName = \"\" + str(alphabetList[extraCounter - 1]) + str(extraLabelS)\n",
    "            if extraLabelS == 0:\n",
    "                fileName = \"\" + str(alphabetList[extraCounter - 1])\n",
    "        if modedS == \"numbers\":\n",
    "            fileName = \"\" + str(count)\n",
    "        newName = f'{fileName}{fileExtension}'\n",
    "        os.rename(file, newName)    \n",
    "\n",
    "if mode == \"consecutive\":\n",
    "    for count, file in enumerate(os.listdir()):\n",
    "        fileName, fileExtension = os.path.splitext(file)\n",
    "        fileName = labelOneC + \"_\" + str(count)\n",
    "        newName = f'{fileName}{fileExtension}'\n",
    "        os.rename(file, newName)\n",
    "    \n",
    "if mode == \"alternating\":\n",
    "    extraCounterTwo = 0;\n",
    "    countTwo = 0;\n",
    "    countThree = 0;\n",
    "    for count, file in enumerate(os.listdir()):\n",
    "        fileName, fileExtension = os.path.splitext(file)\n",
    "        if count % 2 == 0:\n",
    "            countTwo = countTwo + 1;\n",
    "            fileName = labelOneA + str(countTwo)\n",
    "        if count % 2 == 1:\n",
    "            countThree = countThree + 1;\n",
    "            fileName = labelTwoA + str(countThree)\n",
    "        newName = f'{fileName}{fileExtension}'\n",
    "        os.rename(file, newName)"
   ]
  },
  {
   "cell_type": "code",
   "execution_count": null,
   "id": "67d870ea",
   "metadata": {},
   "outputs": [],
   "source": []
  }
 ],
 "metadata": {
  "kernelspec": {
   "display_name": "Python 3 (ipykernel)",
   "language": "python",
   "name": "python3"
  },
  "language_info": {
   "codemirror_mode": {
    "name": "ipython",
    "version": 3
   },
   "file_extension": ".py",
   "mimetype": "text/x-python",
   "name": "python",
   "nbconvert_exporter": "python",
   "pygments_lexer": "ipython3",
   "version": "3.9.7"
  }
 },
 "nbformat": 4,
 "nbformat_minor": 5
}
